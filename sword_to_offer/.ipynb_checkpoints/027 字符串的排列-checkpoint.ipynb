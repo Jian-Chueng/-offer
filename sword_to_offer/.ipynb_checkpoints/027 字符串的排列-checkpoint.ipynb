{
 "cells": [
  {
   "cell_type": "markdown",
   "metadata": {},
   "source": [
    "# 027 字符串的排列\n",
    "\n",
    "题目描述\n",
    "输入一个字符串,按**字典序**打印出该字符串中字符的所有排列。\n",
    "\n",
    "例如输入字符串abc,\n",
    "\n",
    "则打印出由字符a,b,c所能排列出来的所有字符串<br>\n",
    "abc,acb,bac,bca,cab和cba。"
   ]
  },
  {
   "cell_type": "markdown",
   "metadata": {},
   "source": [
    "化复杂为简单，如何找到解这道题的通式呢？和青蛙跳台阶的思路一样，无论给定的字符串长度多少，其排列出来的组合样式均可以分解为“第一个字符+剩下的字符”的样式。可以通过遍历分别赋予第一位上不同的字符，那“剩下的字符”又可以如上分解。"
   ]
  },
  {
   "cell_type": "markdown",
   "metadata": {},
   "source": [
    "def Permutation(self, ss):\n",
    "    if not ss:\n",
    "        print(\",\")\n",
    "    for i in range(len(ss)):\n",
    "        print(ss[i],end=\"\")\n",
    "        self.Permutation(ss[:i]+ss[i+1:])\n",
    "————————————————\n",
    "版权声明：本文为CSDN博主「goddaniel」的原创文章，遵循 CC 4.0 BY-SA 版权协议，转载请附上原文出处链接及本声明。\n",
    "原文链接：https://blog.csdn.net/u010005281/article/details/79920046\n",
    "    \n",
    "    。结果的输出如下：\n",
    "\n",
    "abc,\n",
    "cb,\n",
    "bac,\n",
    "ca,\n",
    "cab,\n",
    "ba,"
   ]
  },
  {
   "cell_type": "markdown",
   "metadata": {},
   "source": [
    "map() 函数语法：\n",
    "\n",
    "map(function, iterable, ...)\n",
    "\n",
    "```\n",
    ">>> map(lambda x: x ** 2, [1, 2, 3, 4, 5])  # 使用 lambda 匿名函数\n",
    "[1, 4, 9, 16, 25]\n",
    "\n",
    "# 提供了两个列表，对相同位置的列表数据进行相加\n",
    ">>> map(lambda x, y: x + y, [1, 3, 5, 7, 9], [2, 4, 6, 8, 10])\n",
    "[3, 7, 11, 15, 19]\n",
    "```"
   ]
  },
  {
   "cell_type": "code",
   "execution_count": null,
   "metadata": {},
   "outputs": [],
   "source": [
    "def Permutation(self, ss):\n",
    "    res = []\n",
    "    if len(ss) <= 1:\n",
    "        return ss\n",
    "    for i in range(len(ss)):\n",
    "        for n in map(lambda x:ss[i] + x, self.Permutation(ss[:i] + ss[i + 1:])):\n",
    "            res.append(n)\n",
    "    return res\n",
    "————————————————\n",
    "版权声明：本文为CSDN博主「goddaniel」的原创文章，遵循 CC 4.0 BY-SA 版权协议，转载请附上原文出处链接及本声明。\n",
    "原文链接：https://blog.csdn.net/u010005281/article/details/79920046"
   ]
  },
  {
   "cell_type": "markdown",
   "metadata": {},
   "source": [
    "当需要考虑重复元素时，加一个判断即可。"
   ]
  },
  {
   "cell_type": "code",
   "execution_count": null,
   "metadata": {},
   "outputs": [],
   "source": [
    "# -*- coding:utf-8 -*-\n",
    "class Solution:\n",
    "    def Permutation(self, ss):\n",
    "        # write code here\n",
    "        res = []\n",
    "        n = len(ss)\n",
    "        if n <=1:\n",
    "            return ss\n",
    "        #一个元素的情况也要考虑\n",
    "        for i in range(n):\n",
    "            for j in map(lambda x: ss[i]+x, self.Permutation(ss[:i]+ss[i+1:])):\n",
    "                if j not in res:\n",
    "                    res.append(j)\n",
    "                \n",
    "        return res"
   ]
  }
 ],
 "metadata": {
  "kernelspec": {
   "display_name": "Python 3",
   "language": "python",
   "name": "python3"
  },
  "language_info": {
   "codemirror_mode": {
    "name": "ipython",
    "version": 3
   },
   "file_extension": ".py",
   "mimetype": "text/x-python",
   "name": "python",
   "nbconvert_exporter": "python",
   "pygments_lexer": "ipython3",
   "version": "3.7.3"
  }
 },
 "nbformat": 4,
 "nbformat_minor": 2
}
