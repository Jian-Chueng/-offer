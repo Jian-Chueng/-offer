{
 "cells": [
  {
   "cell_type": "markdown",
   "metadata": {},
   "source": [
    "# 028 数组中出现次数超过一半的数字\n",
    "\n",
    "题目描述\n",
    "\n",
    "数组中有一个数字出现的次数超过数组长度的一半，请找出这个数字。例如输入一个长度为9的数组{1,2,3,2,2,2,5,4,2}。由于数字2在数组中出现了5次，超过数组长度的一半，因此输出2。如果不存在则输出0。\n",
    "\n",
    "\n",
    "用例:\n",
    "[1,2,3,2,2,2,5,4,2]\n",
    "\n",
    "对应输出应该为:\n",
    "\n",
    "2\n"
   ]
  },
  {
   "cell_type": "markdown",
   "metadata": {},
   "source": [
    "# 思路\n",
    "\n",
    "三种解法：\n",
    "\n",
    "法1：借助hashmap存储数组中每个数出现的次数，最后看是否有数字出现次数超过数组长度的一半；\n",
    "\n",
    "法2：排序。数组排序后，如果某个数字出现次数超过数组的长度的一半，则一定会数组中间的位置。所以我们取出排序后中间位置的数，统计一下它的出现次数是否大于数组长度的一半；\n",
    "\n",
    "法3：某个数字出现的次数大于数组长度的一半，意思就是它出现的次数比其他所有数字出现的次数和还要多。因此我们可以在遍历数组的时候记录两个值：1. 数组中的数字;2. 次数。遍历下一个数字时，若它与之前保存的数字相同，则次数加1，否则次数减1；若次数为0，则保存下一个数字，并将次数置为1。遍历结束后，所保存的数字即为所求。最后再判断它是否符合条件。"
   ]
  },
  {
   "cell_type": "code",
   "execution_count": 2,
   "metadata": {},
   "outputs": [],
   "source": [
    "#时间复杂度：O(n)\n",
    "\n",
    "class Solution:\n",
    "    def MoreThanHalfNum_Solution(self, numbers):\n",
    "        # write code here\n",
    "        if not numbers:\n",
    "            return 0\n",
    "        res = numbers[0]\n",
    "        times = 0\n",
    "        for i in numbers:\n",
    "            if i == res:\n",
    "                times += 1\n",
    "            if i != res:\n",
    "                if times > 0:\n",
    "                    times -= 1\n",
    "                else:\n",
    "                    res = i\n",
    "                    times = 1\n",
    "        if self.Check(numbers,res):return res\n",
    "        else:return 0\n",
    "    def Check(self, numbers, res):\n",
    "        n = 0\n",
    "        for i in numbers:\n",
    "            if i == res:\n",
    "                n += 1\n",
    "        return n > len(numbers)/2"
   ]
  },
  {
   "cell_type": "code",
   "execution_count": null,
   "metadata": {},
   "outputs": [],
   "source": [
    "# -*- coding:utf-8 -*-\n",
    "# 遍历数组，用字典dict存储次数。时间复杂度为O(n)，空间复杂度O(1)~O(n) 自己写的\n",
    "class Solution:\n",
    "    def MoreThanHalfNum_Solution(self, numbers):\n",
    "        # write code here\n",
    "        n = len(numbers)\n",
    "        d = {}#dict使用\n",
    "        count = 1\n",
    "        if n ==0:\n",
    "            return 0\n",
    "        elif n ==1:\n",
    "            return numbers[0]\n",
    "        else:\n",
    "            \n",
    "            for i in range(n):\n",
    "                if numbers[i] not in d:\n",
    "                    d[numbers[i]] = 1\n",
    "                    \n",
    "                else:\n",
    "                    d[numbers[i]] += 1\n",
    "                    if d[numbers[i]]> n/2:\n",
    "                        return numbers[i]\n",
    "            return 0"
   ]
  }
 ],
 "metadata": {
  "kernelspec": {
   "display_name": "Python 3",
   "language": "python",
   "name": "python3"
  },
  "language_info": {
   "codemirror_mode": {
    "name": "ipython",
    "version": 3
   },
   "file_extension": ".py",
   "mimetype": "text/x-python",
   "name": "python",
   "nbconvert_exporter": "python",
   "pygments_lexer": "ipython3",
   "version": "3.7.3"
  }
 },
 "nbformat": 4,
 "nbformat_minor": 2
}
