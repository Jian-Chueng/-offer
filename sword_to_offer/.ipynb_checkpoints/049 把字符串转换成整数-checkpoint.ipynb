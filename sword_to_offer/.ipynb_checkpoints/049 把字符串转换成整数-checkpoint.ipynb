{
 "cells": [
  {
   "cell_type": "markdown",
   "metadata": {},
   "source": [
    "# 049 把字符串转换成整数\n",
    "\n",
    "题目描述\n",
    "\n",
    "将一个字符串转换成一个整数，要求不能使用字符串转换整数的库函数。 数值为0或者字符串不是一个合法的数值则返回0\n",
    "\n",
    "输入描述:\n",
    "\n",
    "输入一个字符串,包括数字字母符号,可以为空\n",
    "\n",
    "输出描述:\n",
    "\n",
    "如果是合法的数值表达则返回该数字，否则返回0\n",
    "\n",
    "```\n",
    "输入:\n",
    "+2147483647\n",
    "    1a33\n",
    "    \n",
    "输出：\n",
    "2147483647\n",
    "    0\n",
    "```"
   ]
  },
  {
   "cell_type": "code",
   "execution_count": null,
   "metadata": {},
   "outputs": [],
   "source": []
  }
 ],
 "metadata": {
  "kernelspec": {
   "display_name": "Python 3",
   "language": "python",
   "name": "python3"
  },
  "language_info": {
   "codemirror_mode": {
    "name": "ipython",
    "version": 3
   },
   "file_extension": ".py",
   "mimetype": "text/x-python",
   "name": "python",
   "nbconvert_exporter": "python",
   "pygments_lexer": "ipython3",
   "version": "3.7.3"
  }
 },
 "nbformat": 4,
 "nbformat_minor": 2
}
