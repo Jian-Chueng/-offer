{
 "cells": [
  {
   "cell_type": "markdown",
   "metadata": {},
   "source": [
    "# 001 二维数组中的查找\n",
    "\n",
    "题目描述\n",
    "\n",
    "在一个二维数组中（每个一维数组的长度相同），每一行都按照从左到右递增的顺序排序，每一列都按照从上到下递增的顺序排序。\n",
    "请完成一个函数，输入这样的一个二维数组和一个整数，判断数组中是否含有该整数。\n",
    "\n",
    "用例:\n",
    "7,[[1,2,8,9],[2,4,9,12],[4,7,10,13],[6,8,11,15]]\n",
    "\n",
    "对应输出应该为:\n",
    "\n",
    "true\n"
   ]
  },
  {
   "cell_type": "markdown",
   "metadata": {},
   "source": [
    "# 思路\n",
    "\n",
    "从左下角或者右上角开始比较\n",
    "\n",
    "tips: \n",
    "len(array)看array row长度；len(array[0])看column长度\n",
    "但是取出的时候index从0开始，要变成array[row-1][col-1]\n",
    "两个循环：\n",
    "1. while循环 确保在array size内寻找\n",
    "\n",
    "2. 简单三个分支(if, elif,else)：\n",
    "    1. target > 右上角 => row +=1 下移\n",
    "    2. target < 右上角 => col -=1 左移\n",
    "    3. target = 右上角 => return true"
   ]
  },
  {
   "cell_type": "code",
   "execution_count": null,
   "metadata": {},
   "outputs": [],
   "source": [
    "# -*- coding:utf-8 -*-\n",
    "class Solution:\n",
    "    # array 二维列表\n",
    "    def Find(self, target, array):\n",
    "        # write code here\n",
    "        if not array:\n",
    "            return False\n",
    "        rows, cols = len(array), len(array[0])\n",
    "        row, col = rows -1, 0\n",
    "        while row >=0 and col <=cols-1:\n",
    "            if target < array[row][col]:\n",
    "                row -= 1\n",
    "            elif target > array[row][col]:\n",
    "                col += 1\n",
    "            else:\n",
    "                return True\n",
    "        return False"
   ]
  }
 ],
 "metadata": {
  "kernelspec": {
   "display_name": "Python 3",
   "language": "python",
   "name": "python3"
  },
  "language_info": {
   "codemirror_mode": {
    "name": "ipython",
    "version": 3
   },
   "file_extension": ".py",
   "mimetype": "text/x-python",
   "name": "python",
   "nbconvert_exporter": "python",
   "pygments_lexer": "ipython3",
   "version": "3.7.3"
  }
 },
 "nbformat": 4,
 "nbformat_minor": 2
}
