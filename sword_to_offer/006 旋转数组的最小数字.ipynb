{
 "cells": [
  {
   "cell_type": "markdown",
   "metadata": {},
   "source": [
    "# 006 旋转数组的最小数字\n",
    "\n",
    "题目描述\n",
    "把一个数组最开始的若干个元素搬到数组的末尾，我们称之为数组的旋转。\n",
    "输入一个非递减排序的数组的一个旋转，输出旋转数组的最小元素。\n",
    "例如数组{3,4,5,1,2}为{1,2,3,4,5}的一个旋转，该数组的最小值为1。\n",
    "NOTE：给出的所有元素都大于0，若数组大小为0，请返回0。\n",
    "\n",
    "用例:\n",
    "[6501,6828,6963,7036,7422,7674,8146,8468,8704,8717,9170,9359,9719,9895,9896,9913,9962,154,293,334,492,1323,1479,1539,1727,1870,1943,2383,2392,2996,3282,3812,3903,4465,4605,4665,4772,4828,5142,5437,5448,5668,5706,5725,6300,6335]\n",
    "\n",
    "对应输出应该为:\n",
    "\n",
    "154"
   ]
  },
  {
   "cell_type": "markdown",
   "metadata": {},
   "source": []
  },
  {
   "cell_type": "code",
   "execution_count": null,
   "metadata": {},
   "outputs": [],
   "source": [
    "# -*- coding:utf-8 -*-\n",
    "class Solution:\n",
    "    def minNumberInRotateArray(self, rotateArray):\n",
    "        # write code here\n",
    "        n = len(rotateArray)\n",
    "        if n ==0:\n",
    "             return 0\n",
    "        left = 0\n",
    "        right = n-1\n",
    "        while left<right:\n",
    "            if rotateArray[left]<rotateArray[right]:\n",
    "                return rotateArray[left]\n",
    "            mid = (left+right)//2\n",
    "            if rotateArray[left]<rotateArray[mid]:\n",
    "                left=mid+1\n",
    "            #右边有序右边取最小\n",
    "            elif rotateArray[mid]<rotateArray[right]:\n",
    "                right=mid\n",
    "            #前面两个相等的时候，left进一继续\n",
    "            else :\n",
    "                left+=1\n",
    "        return rotateArray[left]"
   ]
  }
 ],
 "metadata": {
  "kernelspec": {
   "display_name": "Python 3",
   "language": "python",
   "name": "python3"
  },
  "language_info": {
   "codemirror_mode": {
    "name": "ipython",
    "version": 3
   },
   "file_extension": ".py",
   "mimetype": "text/x-python",
   "name": "python",
   "nbconvert_exporter": "python",
   "pygments_lexer": "ipython3",
   "version": "3.7.3"
  }
 },
 "nbformat": 4,
 "nbformat_minor": 2
}
