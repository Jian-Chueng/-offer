{
 "cells": [
  {
   "cell_type": "markdown",
   "metadata": {},
   "source": [
    "# 027 字符串的排列\n",
    "\n",
    "题目描述\n",
    "输入一个字符串,按**8字典序**打印出该字符串中字符的所有排列。\n",
    "\n",
    "例如输入字符串abc,\n",
    "\n",
    "则打印出由字符a,b,c所能排列出来的所有字符串<br>\n",
    "abc,acb,bac,bca,cab和cba。"
   ]
  },
  {
   "cell_type": "markdown",
   "metadata": {},
   "source": [
    "化复杂为简单，如何找到解这道题的通式呢？和青蛙跳台阶的思路一样，无论给定的字符串长度多少，其排列出来的组合样式均可以分解为“第一个字符+剩下的字符”的样式。可以通过遍历分别赋予第一位上不同的字符，那“剩下的字符”又可以如上分解。"
   ]
  },
  {
   "cell_type": "code",
   "execution_count": null,
   "metadata": {},
   "outputs": [],
   "source": [
    "# -*- coding:utf-8 -*-\n",
    "class Solution:\n",
    "    def Permutation(self, ss):\n",
    "        # write code here\n",
    "\n",
    "        list = []\n",
    "        if len(ss) <= 1:\n",
    "            return ss\n",
    "        for i in range(len(ss)):\n",
    "            for j in map(lambda x: ss[i]+x, self.Permutation(ss[:i]+ss[i+1:])):\n",
    "                if j not in list:\n",
    "                    list.append(j)\n",
    "        return list\n",
    "    \n"
   ]
  }
 ],
 "metadata": {
  "kernelspec": {
   "display_name": "Python 3",
   "language": "python",
   "name": "python3"
  },
  "language_info": {
   "codemirror_mode": {
    "name": "ipython",
    "version": 3
   },
   "file_extension": ".py",
   "mimetype": "text/x-python",
   "name": "python",
   "nbconvert_exporter": "python",
   "pygments_lexer": "ipython3",
   "version": "3.7.3"
  }
 },
 "nbformat": 4,
 "nbformat_minor": 2
}
