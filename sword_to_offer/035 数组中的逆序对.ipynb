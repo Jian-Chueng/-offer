{
 "cells": [
  {
   "cell_type": "markdown",
   "metadata": {},
   "source": [
    "# 035 数组中的逆序对\n",
    "\n",
    "题目描述\n",
    "\n",
    " 在数组中的两个数字，如果前面一个数字大于后面的数字，则这两个数字组成一个逆序对。输入一个数组,求出这个数组中的逆序对的总数P。并将P对1000000007取模的结果输出。 即输出P%1000000007 <br>\n",
    " \n",
    "输入描述:\n",
    "题目保证输入的数组中没有的相同的数字\n",
    "\n",
    "数据范围：\n",
    "\n",
    "\t对于%50的数据,size<=10^4\n",
    "\n",
    "\t对于%75的数据,size<=10^5\n",
    "\n",
    "\t对于%100的数据,size<=2*10^5\n",
    "    \n",
    "```\n",
    "示例1\n",
    "输入\n",
    "复制\n",
    "1,2,3,4,5,6,7,0\n",
    "输出\n",
    "复制\n",
    "7\n",
    "```"
   ]
  },
  {
   "cell_type": "markdown",
   "metadata": {},
   "source": [
    "# 思路\n",
    "\n",
    "![035](035_1.jpg)<br>\n",
    "例如7,5,4,6可以划分为两段7,5和4,6两个子数组\n",
    "\n",
    "1. 在7,5中求出逆序对，因为7大于5所以有1对<br>\n",
    "2. 在6,4中求出逆序对，因为6大于4所以逆序对再加1，为2<br>\n",
    "3. 对7,5和6,4进行排序，结果为5,7,和4,6<br>\n",
    "4. 设置两个指针分别指向两个子数组中的最大值，p1指向7，p2指向6<br>\n",
    "5. 比较p1和p2指向的值，如果大于p2，因为p2指向的是最大值，所以第二个子数组中有几个元素就有几对逆序对(当前有两个元素，逆序对加2,2+2=4)，7>6,比较完之后将p1指向的值放入辅助数组里，辅助数组里现在有一个数字7，然后将p1向前移动一位指向5<br>\n",
    "6. 再次判断p1和p2指向的值，p1小于p2，因为p1指向的是第一个子数组中最大值，所以子数组中没有能和当前p2指向的6构成逆序对的数，将p2指向的值放入辅助数组，并向前移动一位指向4，此时辅助数组内为6,7<br>\n",
    "7. 继续判断p1(指向5)和p2(指向4)，5>4,第二个子数组中只有一个数字，逆序对加1，4+1=5，为5对，然后将5放入辅助数组，第一个子数组遍历完毕，只剩下第二个子数组，当前只有一个4，将4也放入辅助数组，函数结束。辅助数组此时为4,5,6,7.逆序对为5.\n",
    "\n",
    "![035](035_2.jpg)<br>"
   ]
  },
  {
   "cell_type": "markdown",
   "metadata": {},
   "source": [
    "太难了， 做不出， 会超时"
   ]
  },
  {
   "cell_type": "markdown",
   "metadata": {},
   "source": []
  },
  {
   "cell_type": "code",
   "execution_count": null,
   "metadata": {},
   "outputs": [],
   "source": [
    "class Solution:\n",
    "    def InversePairs(self, data):\n",
    "        #发现可以用归并排序，归并拼接后用计算排序时元素的index变动了多少\n",
    "        #两个有序序列，每个元素移动index数（严格来说不是移动，这里不知怎么表达）之和好像刚好等于逆序对的个数\n",
    "        #我也不知为什么，找了半天发现了这个规律\n",
    "        _,s=self.MergeSort(data)\n",
    "        return s%1000000007\n",
    "     \n",
    "    def MergeSort(self,data):\n",
    "        n=len(data)\n",
    "        #递归基\n",
    "        if n==1:return data, 0\n",
    "        #分两半来排序\n",
    "        part1,part2=data[:n//2],data[n//2:]\n",
    "        sorted_part1,s1=self.MergeSort(part1)\n",
    "        sorted_part2,s2=self.MergeSort(part2)\n",
    "        #排序后拼接这两半，拼接后先计数，然后将两个有序序列合并\n",
    "        s,sorted_temp=0,sorted_part1+sorted_part2\n",
    "        #用p、q两个指针指向两段，计算q中每个元素离插入点的index差\n",
    "        p,q,len1,len_all=0,sorted_temp.index(sorted_part2[0]),len(sorted_part1),len(sorted_temp)\n",
    "        while p<len1 and q<len_all:\n",
    "            #移动p使p成为插入排序的插入点，计算要移动多少个位置\n",
    "            while p<len1:\n",
    "                if sorted_temp[q]<sorted_temp[p]:\n",
    "                    s+=len1-p\n",
    "                    break\n",
    "                p+=1\n",
    "            q+=1\n",
    "        #完成排序，并把排序后的内容回溯给上一级做准备\n",
    "        l=[]\n",
    "        p,q=0,sorted_temp.index(sorted_part2[0])\n",
    "        while p<len1 and q<len_all:\n",
    "            if sorted_temp[p]<sorted_temp[q]:\n",
    "                l.append(sorted_temp[p])\n",
    "                p+=1\n",
    "            else:\n",
    "                l.append(sorted_temp[q])\n",
    "                q+=1\n",
    "        if p==len1:l+=sorted_temp[q:]\n",
    "        if q==len_all:l+=sorted_part1[p:]\n",
    "        return l,s+s1+s2"
   ]
  }
 ],
 "metadata": {
  "kernelspec": {
   "display_name": "Python 3",
   "language": "python",
   "name": "python3"
  },
  "language_info": {
   "codemirror_mode": {
    "name": "ipython",
    "version": 3
   },
   "file_extension": ".py",
   "mimetype": "text/x-python",
   "name": "python",
   "nbconvert_exporter": "python",
   "pygments_lexer": "ipython3",
   "version": "3.7.3"
  }
 },
 "nbformat": 4,
 "nbformat_minor": 2
}
