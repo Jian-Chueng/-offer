{
 "cells": [
  {
   "cell_type": "markdown",
   "metadata": {},
   "source": [
    "# 043 左旋转字符串 \n",
    "\n",
    "**第一次自己写出来**\n",
    "\n",
    "题目描述\n",
    "\n",
    "汇编语言中有一种移位指令叫做循环左移（ROL），现在有个简单的任务，就是用字符串模拟这个指令的运算结果。对于一个给定的字符序列S，请你把其循环左移K位后的序列输出。\n",
    "\n",
    "例如，\n",
    "字符序列S=”abcXYZdef”,\n",
    "\n",
    "要求\n",
    "\n",
    "输出循环左移3位后的结果，即“XYZdefabc”。是不是很简单？OK，搞定它！"
   ]
  },
  {
   "cell_type": "code",
   "execution_count": 2,
   "metadata": {},
   "outputs": [
    {
     "ename": "SyntaxError",
     "evalue": "invalid syntax (<ipython-input-2-70fc7b944c04>, line 7)",
     "output_type": "error",
     "traceback": [
      "\u001b[0;36m  File \u001b[0;32m\"<ipython-input-2-70fc7b944c04>\"\u001b[0;36m, line \u001b[0;32m7\u001b[0m\n\u001b[0;31m    if n-1 <= length:  % 长度check\u001b[0m\n\u001b[0m                       ^\u001b[0m\n\u001b[0;31mSyntaxError\u001b[0m\u001b[0;31m:\u001b[0m invalid syntax\n"
     ]
    }
   ],
   "source": [
    "# -*- coding:utf-8 -*-\n",
    "class Solution:\n",
    "    def LeftRotateString(self, s, n):\n",
    "        # write code here\n",
    "        length = len(s)\n",
    "\n",
    "        if n-1 <= length:  % 长度check\n",
    "            s = s[n:]+s[:n] % 直接连接字符串\n",
    "        else:\n",
    "            return \"\"\n",
    "        return s\n",
    "        "
   ]
  },
  {
   "cell_type": "markdown",
   "metadata": {},
   "source": [
    "1、思路\n",
    "例如：输入字符串\"abcdefg\"和数字2，该函数将返回左旋转2位得到的结果\"cdefgab\";\n",
    "\n",
    " \n",
    "\n",
    "第一步：翻转字符串“ab”，得到\"ba\"；\n",
    "\n",
    "第二步：翻转字符串\"cdefg\"，得到\"gfedc\"；\n",
    "\n",
    "第三步：翻转字符串\"bagfedc\"，得到\"cdefgab\"；\n",
    "\n",
    "或者：\n",
    "\n",
    "第一步：翻转整个字符串\"abcdefg\",得到\"gfedcba\"\n",
    "\n",
    "第二步：翻转字符串“gfedc”，得到\"cdefg\"\n",
    "\n",
    "第三步：翻转字符串\"ba\",得到\"ab\""
   ]
  }
 ],
 "metadata": {
  "kernelspec": {
   "display_name": "Python 3",
   "language": "python",
   "name": "python3"
  },
  "language_info": {
   "codemirror_mode": {
    "name": "ipython",
    "version": 3
   },
   "file_extension": ".py",
   "mimetype": "text/x-python",
   "name": "python",
   "nbconvert_exporter": "python",
   "pygments_lexer": "ipython3",
   "version": "3.7.3"
  }
 },
 "nbformat": 4,
 "nbformat_minor": 2
}
