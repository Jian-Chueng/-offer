{
 "cells": [
  {
   "cell_type": "markdown",
   "metadata": {},
   "source": [
    "# 050 数组中重复的数字\n",
    "\n",
    "题目描述\n",
    "在一个长度为n的数组里的所有数字都在0到n-1的范围内。 数组中某些数字是重复的，但不知道有几个数字是重复的。也不知道每个数字重复几次。请找出数组中任意一个重复的数字。 例如，如果输入长度为7的数组{2,3,1,0,2,5,3}，那么对应的输出是第一个重复的数字2。\n",
    "\n",
    "用例:\n",
    "[2,1,3,1,4]\n",
    "\n",
    "对应输出应该为:\n",
    "\n",
    "\"true,1\""
   ]
  },
  {
   "cell_type": "markdown",
   "metadata": {},
   "source": [
    "# 思路\n",
    "\n",
    "把当前序列当成index和index对应数字相等的数组：\n",
    "\n",
    "- 若相等，遍历向一位\n",
    "\n",
    "- 若不等，则将当前位置i上的元素和a[i]位置上的元素比较：若它们相等，则找到了第一个相同的元素；若不等，则将它们两交换。换完之后a[i]位置上的值和它的下标是对应的，但i位置上的元素和下标并不一定对应；重复2的操作，直到当前位置i的值也为i，将i向后移一位，再重复2。\n",
    "\n",
    "举例：[2,1,3,1,4]\n",
    "\n",
    "2(index=0) 和 3（index=2）不相等，交换位置：[3,1,2,1,4]<br>\n",
    "3(index=0) 和 1（index=3）不相等，交换位置：[1,1,2,3,4]<br>\n",
    "1(index=0) 和 1（index=1）相等，找到了第一个相同的元素<br>\n"
   ]
  },
  {
   "cell_type": "code",
   "execution_count": null,
   "metadata": {},
   "outputs": [],
   "source": [
    "# -*- coding:utf-8 -*-\n",
    "class Solution:\n",
    "    # 这里要特别注意~找到任意重复的一个值并赋值到duplication[0]\n",
    "    # 函数返回True/False\n",
    "        def duplicate(self, numbers, duplication):\n",
    "        # write code here\n",
    "        n = len(numbers)\n",
    "        \n",
    "        for i in range(n):\n",
    "            while i != numbers[i]:\n",
    "                if numbers[i] == numbers[numbers[i]]:\n",
    "                    duplication[0]=numbers[i]\n",
    "                    return True\n",
    "                temp = numbers[i]\n",
    "                numbers[i] = numbers[temp]\n",
    "                numbers[temp] = temp\n",
    "        return False"
   ]
  }
 ],
 "metadata": {
  "kernelspec": {
   "display_name": "Python 3",
   "language": "python",
   "name": "python3"
  },
  "language_info": {
   "codemirror_mode": {
    "name": "ipython",
    "version": 3
   },
   "file_extension": ".py",
   "mimetype": "text/x-python",
   "name": "python",
   "nbconvert_exporter": "python",
   "pygments_lexer": "ipython3",
   "version": "3.7.3"
  }
 },
 "nbformat": 4,
 "nbformat_minor": 2
}
