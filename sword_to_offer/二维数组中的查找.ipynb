{
 "cells": [
  {
   "cell_type": "markdown",
   "metadata": {},
   "source": [
    "二维数组中的查找\n",
    "\n",
    "题目描述\n",
    "在一个二维数组中（每个一维数组的长度相同），每一行都按照从左到右递增的顺序排序，每一列都按照从上到下递增的顺序排序。\n",
    "请完成一个函数，输入这样的一个二维数组和一个整数，判断数组中是否含有该整数。\n",
    "\n",
    "用例:\n",
    "7,[[1,2,8,9],[2,4,9,12],[4,7,10,13],[6,8,11,15]]\n",
    "\n",
    "对应输出应该为:\n",
    "\n",
    "true\n"
   ]
  },
  {
   "cell_type": "code",
   "execution_count": null,
   "metadata": {},
   "outputs": [],
   "source": [
    "class Solution:\n",
    "    # array 二维列表\n",
    "    def Find(self, target, array):\n",
    "        # write code here\n",
    "        row = 1\n",
    "        col = 1\n",
    "        if target > array[row,col]:\n",
    "            col = col + 1\n",
    "        elif target < array[row, col]:\n",
    "            col = col - 1\n",
    "            row = row + 1\n",
    "        else:\n",
    "            return True"
   ]
  }
 ],
 "metadata": {
  "kernelspec": {
   "display_name": "Python 3",
   "language": "python",
   "name": "python3"
  },
  "language_info": {
   "codemirror_mode": {
    "name": "ipython",
    "version": 3
   },
   "file_extension": ".py",
   "mimetype": "text/x-python",
   "name": "python",
   "nbconvert_exporter": "python",
   "pygments_lexer": "ipython3",
   "version": "3.7.3"
  }
 },
 "nbformat": 4,
 "nbformat_minor": 2
}
