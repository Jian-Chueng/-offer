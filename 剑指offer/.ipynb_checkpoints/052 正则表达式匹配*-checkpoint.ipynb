{
 "cells": [
  {
   "cell_type": "markdown",
   "metadata": {},
   "source": [
    "# 052 正则表达式匹配\n",
    "\n",
    "题目描述\n",
    "\n",
    "请实现一个函数用来匹配包括'.'和'\\*'的正则表达式。模式中的字符'.'表示任意一个字符，而'\\*'表示它前面的字符可以出现任意次（包含0次）。 在本题中，匹配是指字符串的所有字符匹配整个模式。例如，字符串\"aaa\"与模式\"a.a\"和\"ab*ac*a\"匹配，但是与\"aa.a\"和\"ab*a\"均不匹配。\n",
    "\n",
    "用例:\n",
    "\"\",\"\"\n",
    "\n",
    "对应输出应该为:\n",
    "\n",
    "true\n",
    "\n",
    "用例:\n",
    "\"\",\".\"\n",
    "\n",
    "对应输出应该为:\n",
    "\n",
    "false"
   ]
  },
  {
   "cell_type": "markdown",
   "metadata": {},
   "source": [
    "不明白"
   ]
  },
  {
   "cell_type": "code",
   "execution_count": null,
   "metadata": {},
   "outputs": [],
   "source": [
    "# -*- coding:utf-8 -*-\n",
    "class Solution:\n",
    "    # s, pattern都是字符串\n",
    "    def match(self, s, pattern):\n",
    "        # write code here\n",
    "        if not s and not pattern:\n",
    "            return True\n",
    "        \n",
    "        if s and not pattern:\n",
    "            return False\n",
    "        \n",
    "        if not s and pattern:\n",
    "            if len(pattern)>=2 and pattern[1] == '*':\n",
    "                return self.match(s, pattern[2:])\n",
    "            else:\n",
    "                return False\n",
    "            \n",
    "        if s and pattern:\n",
    "            if len(pattern)>=2 and pattern[1] == '*':\n",
    "                if s[0] == pattern[0] or pattern[0] == '.':\n",
    "                    return self.match(s[1:], pattern) or self.match(s, pattern[2:])\n",
    "                else:\n",
    "                    return self.match(s, pattern[2:])\n",
    "            else:\n",
    "                if pattern[0]==s[0] or pattern[0] == '.':\n",
    "                    return self.match(s[1:], pattern[1:])\n",
    "                else:\n",
    "                    \n",
    "                    return False\n",
    "            "
   ]
  }
 ],
 "metadata": {
  "kernelspec": {
   "display_name": "Python 3",
   "language": "python",
   "name": "python3"
  },
  "language_info": {
   "codemirror_mode": {
    "name": "ipython",
    "version": 3
   },
   "file_extension": ".py",
   "mimetype": "text/x-python",
   "name": "python",
   "nbconvert_exporter": "python",
   "pygments_lexer": "ipython3",
   "version": "3.7.3"
  }
 },
 "nbformat": 4,
 "nbformat_minor": 2
}
