{
 "cells": [
  {
   "cell_type": "markdown",
   "metadata": {},
   "source": [
    "# 002 替换空格\n",
    "\n",
    "题目描述\n",
    "\n",
    "请实现一个函数，将一个字符串中的每个空格替换成“%20”。例如，当字符串为We Are Happy.则经过替换之后的字符串为We%20Are%20Happy。"
   ]
  },
  {
   "cell_type": "markdown",
   "metadata": {},
   "source": [
    "## 最简单的方法就是从头到尾遍历，但是时间复杂度为O(n^2)。"
   ]
  },
  {
   "cell_type": "markdown",
   "metadata": {},
   "source": [
    "第一种方法：\n",
    "\n",
    "字符串函数 replace\n",
    "\n",
    "**str.replace(old, new[, max])**<br>\n",
    "\n",
    "描述<br>\n",
    "replace() 方法把字符串中的 old（旧字符串） 替换成 new(新字符串)，如果指定第三个参数max，则替换不超过 max 次。\n",
    "\n",
    "语法<br>\n",
    "replace()方法语法：\n",
    "\n",
    "\n",
    "参数<br>\n",
    "old -- 将被替换的子字符串。\n",
    "new -- 新字符串，用于替换old子字符串。\n",
    "max -- 可选字符串, 替换不超过 max 次"
   ]
  },
  {
   "cell_type": "code",
   "execution_count": 1,
   "metadata": {},
   "outputs": [],
   "source": [
    "# -*- coding:utf-8 -*-\n",
    "class Solution:\n",
    "    # s 源字符串\n",
    "    def replaceSpace(self, s):\n",
    "        # write code here\n",
    "        new = s.replace(\" \", \"%20\")\n",
    "        return new"
   ]
  },
  {
   "cell_type": "markdown",
   "metadata": {},
   "source": [
    "第二种方法： \n",
    "\n",
    "字符串转list，用for loop\n",
    "\n",
    "使用 join（） 函数\n",
    "\n",
    "**str.join(sequence)**\n",
    "\n",
    "参数\n",
    "sequence -- 要连接的元素序列。\n",
    "\n",
    "```\n",
    "#!/usr/bin/python\n",
    "# -*- coding: UTF-8 -*-\n",
    " \n",
    "str = \"-\";\n",
    "seq = (\"a\", \"b\", \"c\"); # 字符串序列\n",
    "print str.join( seq );\n",
    "\n",
    "a-b-c\n",
    "```"
   ]
  },
  {
   "cell_type": "code",
   "execution_count": null,
   "metadata": {},
   "outputs": [],
   "source": [
    "# -*- coding:utf-8 -*-\n",
    "class Solution:\n",
    "    # s 源字符串\n",
    "    def replaceSpace(self, s):\n",
    "        # write code here\n",
    "        a = list(s)\n",
    "        n = len(a)\n",
    "        \n",
    "        for i in range(n):\n",
    "            if a[i]==\" \":\n",
    "                a[i] =\"%20\"\n",
    "                \n",
    "        return ''.join(a)"
   ]
  },
  {
   "cell_type": "markdown",
   "metadata": {},
   "source": [
    "每替换一个空格，长度增加2，因此替换以后字符串的长度等于原来的长度加上2乘以空格数目。以\"We are happy\"为例，\"We are happy\"这个字符串的长度为14（包括结尾符号\"\\n\"），里面有两个空格，因此替换之后字符串的长度是18。<br>\n",
    "我们从字符串的尾部开始复制和替换。首先准备两个指针，P1和P2，P1指向原始字符串的末尾，而P2指向替换之后的字符串的末尾。接下来我们向前移动指针P1，逐个把它指向的字符复制到P2指向的位置，直到碰到第一个空格为止。碰到第一个空格之后，把P1向前移动1格，在P2之前插入字符串\"%20\"。由于\"%20\"的长度为3，同时也要把P2向前移动3格。\n",
    "\n",
    "移动示意图：\n",
    "![2](002.jpg)\n"
   ]
  }
 ],
 "metadata": {
  "kernelspec": {
   "display_name": "Python 3",
   "language": "python",
   "name": "python3"
  },
  "language_info": {
   "codemirror_mode": {
    "name": "ipython",
    "version": 3
   },
   "file_extension": ".py",
   "mimetype": "text/x-python",
   "name": "python",
   "nbconvert_exporter": "python",
   "pygments_lexer": "ipython3",
   "version": "3.7.3"
  }
 },
 "nbformat": 4,
 "nbformat_minor": 2
}
