{
 "cells": [
  {
   "cell_type": "markdown",
   "metadata": {},
   "source": [
    "# 103 调整数组顺序使奇数位于偶数前面\n",
    "\n",
    "题目描述\n",
    "\n",
    "输入一个整数数组，实现一个函数来调整该数组中数字的顺序，使得所有的奇数位于数组的前半部分，所有的偶数位于数组的后半部分，并保证奇数和奇数，偶数和偶数之间的相对位置不变。\n",
    "\n",
    "\n",
    "用例:\n",
    "[1,2,3,4,5,6,7]\n",
    "\n",
    "对应输出应该为:\n",
    "\n",
    "[1,3,5,7,2,4,6]\n"
   ]
  },
  {
   "cell_type": "markdown",
   "metadata": {},
   "source": [
    "# 思路\n",
    "\n",
    "使用 collections里面的deque：双端队列\n",
    "创建双向队列，遍历数组，奇数前插入，偶数后插入。最后使用assign方法实现不同容器但相容的类型赋值。\n",
    "\n",
    "%余数\n",
    "\n",
    "deque支持从任意一端增加和删除元素。\n",
    "\n",
    "extend() 一次性从右端添加多个元素\n",
    "append() 从右端添加一个元素\n",
    "extendleft() 从左端添加多个元素，注意是逆序输入\n",
    "appendleft() 从左端添加一个元素\n",
    "\n",
    "append(x)\n",
    "添加 x 到右端。\n",
    "\n",
    "appendleft(x)\n",
    "添加 x 到左端。\n",
    "\n",
    "clear()\n",
    "移除所有元素，使其长度为0.\n",
    "\n",
    "copy()¶\n",
    "创建一份浅拷贝。\n"
   ]
  },
  {
   "cell_type": "code",
   "execution_count": 2,
   "metadata": {},
   "outputs": [],
   "source": [
    "# -*- coding:utf-8 -*-\n",
    "from collections import deque\n",
    "class Solution:\n",
    "    def reOrderArray(self, array):\n",
    "        # write code here\n",
    "        n = len(array)\n",
    "        res = deque()\n",
    "        for i in range(n):\n",
    "            if array[n-i-1]%2 != 0:\n",
    "                res.appendleft(array[n-i-1])\n",
    "            if array[i]%2 == 0:\n",
    "                res.append(array[i])\n",
    "        return list(res)"
   ]
  },
  {
   "cell_type": "code",
   "execution_count": null,
   "metadata": {},
   "outputs": [],
   "source": [
    "不用deque：建立两个：一个奇数一个偶数"
   ]
  },
  {
   "cell_type": "code",
   "execution_count": 3,
   "metadata": {},
   "outputs": [],
   "source": [
    "# -*- coding:utf-8 -*-\n",
    "class Solution:\n",
    "    def reOrderArray(self, array):\n",
    "        # write code here\n",
    "        lo = []\n",
    "        le = []\n",
    "        for d in array:\n",
    "            if d % 2 == 1:\n",
    "                lo.append(d)\n",
    "            else:\n",
    "                le.append(d)\n",
    "        return lo + le"
   ]
  },
  {
   "cell_type": "code",
   "execution_count": null,
   "metadata": {},
   "outputs": [],
   "source": [
    "# -*- coding:utf-8 -*- 自己写哒～\n",
    "class Solution:\n",
    "    def reOrderArray(self, array):\n",
    "        # write code here\n",
    "        n = len(array)\n",
    "        odd =[]\n",
    "        even =[]\n",
    "        for i in range(n):\n",
    "            if array[i]%2 ==1:\n",
    "                odd.append(array[i])\n",
    "            else:\n",
    "                even.append(array[i])\n",
    "        return odd+even"
   ]
  }
 ],
 "metadata": {
  "kernelspec": {
   "display_name": "Python 3",
   "language": "python",
   "name": "python3"
  },
  "language_info": {
   "codemirror_mode": {
    "name": "ipython",
    "version": 3
   },
   "file_extension": ".py",
   "mimetype": "text/x-python",
   "name": "python",
   "nbconvert_exporter": "python",
   "pygments_lexer": "ipython3",
   "version": "3.7.3"
  }
 },
 "nbformat": 4,
 "nbformat_minor": 2
}
