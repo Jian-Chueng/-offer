{
 "cells": [
  {
   "cell_type": "markdown",
   "metadata": {},
   "source": [
    "# 030 连续子数组的最大和\n",
    "\n",
    "题目描述\n",
    "\n",
    "HZ偶尔会拿些专业问题来忽悠那些非计算机专业的同学。今天测试组开完会后,他又发话了:在古老的一维模式识别中,常常需要计算连续子向量的最大和,当向量全为正数的时候,问题很好解决。但是,如果向量中包含负数,是否应该包含某个负数,并期望旁边的正数会弥补它呢？例如:{6,-3,-2,7,-15,1,2,2},连续子向量的最大和为8(从第0个开始,到第3个为止)。给一个数组，返回它的最大连续子序列的和，你会不会被他忽悠住？(子向量的长度至少是1)\n",
    "\n",
    "\n",
    "用例:\n",
    "\n",
    "[1,-2,3,10,-4,7,2,-5]\n",
    "\n",
    "对应输出应该为:\n",
    "\n",
    "18"
   ]
  },
  {
   "cell_type": "markdown",
   "metadata": {},
   "source": [
    "# 思路\n",
    "\n",
    "数组分析：下图是我们计算数组（1，-2，3，10，-4，7，2，-5）中子数组的最大和的过程。通过分析我们发现，累加的子数组和，如果大于零，那么我们继续累加就行；否则，则需要剔除原来的累加和重新开始\n",
    "\n",
    "![思路](030.JPEG)"
   ]
  },
  {
   "cell_type": "code",
   "execution_count": null,
   "metadata": {},
   "outputs": [],
   "source": [
    "# -*- coding:utf-8 -*-\n",
    "class Solution:\n",
    "    def FindGreatestSumOfSubArray(self, array):\n",
    "        # write code here\n",
    "        maxsum = array[0]\n",
    "        cursum = array[0]\n",
    "        \n",
    "        for each in array[1:]:\n",
    "            if cursum <= 0:\n",
    "                cursum = each \n",
    "            else:\n",
    "                cursum += each\n",
    "            if cursum > maxsum:\n",
    "                maxsum = cursum\n",
    "                \n",
    "        return maxsum"
   ]
  }
 ],
 "metadata": {
  "kernelspec": {
   "display_name": "Python 3",
   "language": "python",
   "name": "python3"
  },
  "language_info": {
   "codemirror_mode": {
    "name": "ipython",
    "version": 3
   },
   "file_extension": ".py",
   "mimetype": "text/x-python",
   "name": "python",
   "nbconvert_exporter": "python",
   "pygments_lexer": "ipython3",
   "version": "3.7.3"
  }
 },
 "nbformat": 4,
 "nbformat_minor": 2
}
