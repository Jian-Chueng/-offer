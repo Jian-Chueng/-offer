{
 "cells": [
  {
   "cell_type": "markdown",
   "metadata": {},
   "source": [
    "# 037 数字在排序数组中出现的次数\n",
    "\n",
    "统计一个数字在排序数组中出现的次数。\n",
    "\n",
    "用例:\n",
    "\n",
    "[1,2,3,3,3,3,4,5],3\n",
    "\n",
    "对应输出应该为:\n",
    "\n",
    "4"
   ]
  },
  {
   "cell_type": "markdown",
   "metadata": {},
   "source": [
    "# 思路\n",
    "\n",
    "既然是已经排序好的数组，那么第一个想到的就是二分查找法。\n",
    "\n",
    "做法就是使用二分法找到数字在数组中出现的第一个位置，再利用二分法找到数字在数组中出现的第二个位置。时间复杂度为O(logn + logn)，最终的时间复杂度为O(logn)。\n",
    "\n",
    "举个例子，找到数字k在数组data中出现的次数。\n",
    "\n",
    "数组data中，数字k出现的第一个位置：\n",
    "\n",
    "我们对数组data进行二分，如果数组中间的数字小于k，说明k应该出现在中间位置的右边；如果数组中间的数字大于k，说明k应该出现在中间位置的左边；如果数组中间的数字等于k，并且中间位置的前一个数字不等于k，说明这个中间数字就是数字k出现的第一个位置。\n",
    "\n",
    "同理，数字k出现的最后一个位置，也是这样找的。但是判断少有不同。我们使用两个函数分别获得他们。"
   ]
  },
  {
   "cell_type": "code",
   "execution_count": null,
   "metadata": {},
   "outputs": [],
   "source": [
    "# -*- coding:utf-8 -*-  有现成的函数 .count()\n",
    "class Solution:\n",
    "    def GetNumberOfK(self, data, k):\n",
    "        # write code here\n",
    "        return data.count(k);\n",
    "    \n"
   ]
  },
  {
   "cell_type": "code",
   "execution_count": null,
   "metadata": {},
   "outputs": [],
   "source": [
    "# -*- coding:utf-8 -*-  二分法\n",
    "class Solution:\n",
    "    def GetNumberOfK(self, data, k):\n",
    "        # write code here\n",
    "        if not data:\n",
    "            return 0\n",
    "        start = 0\n",
    "        end = len(data) - 1\n",
    "        # 先找到k的某个位置\n",
    "        index = self.binaryFind(data, start, end, k)\n",
    "        if index == -1:\n",
    "            return 0\n",
    "        indexLeft = index\n",
    "        indexRight = index\n",
    "        # 找到左右两边的位置\n",
    "        while indexLeft > 0 and data[indexLeft - 1] == k:\n",
    "            indexLeft = self.binaryFind(data, 0, indexLeft-1, k)\n",
    "            \n",
    "        while indexRight < end and data[indexRight + 1] == k:\n",
    "            indexRight = self.binaryFind(data, indexRight+1, end, k)\n",
    "            \n",
    "        return indexRight - indexLeft + 1  \n",
    "        \n",
    "    def binaryFind(self, data, Left, Right, k):\n",
    "        while Left <= Right:\n",
    "            mid = (Right + Left) // 2\n",
    "            if k < data[mid]:\n",
    "                Right = mid - 1\n",
    "            elif k > data[mid]:\n",
    "                Left = mid + 1\n",
    "            else:\n",
    "                return mid\n",
    "        return -1"
   ]
  }
 ],
 "metadata": {
  "kernelspec": {
   "display_name": "Python 3",
   "language": "python",
   "name": "python3"
  },
  "language_info": {
   "codemirror_mode": {
    "name": "ipython",
    "version": 3
   },
   "file_extension": ".py",
   "mimetype": "text/x-python",
   "name": "python",
   "nbconvert_exporter": "python",
   "pygments_lexer": "ipython3",
   "version": "3.7.3"
  }
 },
 "nbformat": 4,
 "nbformat_minor": 2
}
