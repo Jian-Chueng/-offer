{
 "cells": [
  {
   "cell_type": "markdown",
   "metadata": {},
   "source": [
    "# 040 数组中只出现一次的数字\n",
    "\n",
    "题目描述\n",
    "\n",
    "一个整型数组里除了两个数字之外，其他的数字都出现了两次。请写程序找出这两个只出现一次的数字。\n",
    "\n",
    "用例:\n",
    "\n",
    "[2,4,3,6,3,2,5,5]\n",
    "\n",
    "对应输出应该为:\n",
    "\n",
    "\"4,6\""
   ]
  },
  {
   "cell_type": "markdown",
   "metadata": {},
   "source": [
    "# 思路\n",
    "\n",
    "**异或的一个性质是：任何一个数字异或它自己都等于0。**\n",
    "\n",
    "我们还是从头到尾一次异或数组中的每一个数字，那么最终得到的结果就是两个只出现一次的数组的异或结果。因为其他数字都出现了两次，在异或中全部抵消了。由于两个数字肯定不一样，那么异或的结果肯定不为0，也就是说这个结果数组的二进制表示至少有一个位为1。我们在结果数组中找到第一个为1的位的位置，记为第n位。现在我们以第n位是不是1为标准把元数组中的数字分成两个子数组，第一个子数组中每个数字的第n位都是1，而第二个子数组中每个数字的第n位都是0。\n",
    "\n",
    "举例：{2,4,3,6,3,2,5,5}\n",
    "\n",
    "我们依次对数组中的每个数字做异或运行之后，得到的结果用二进制表示是0010。异或得到结果中的倒数第二位是1，于是我们根据数字的倒数第二位是不是1分为两个子数组。第一个子数组{2,3,6,3,2}中所有数字的倒数第二位都是1，而第二个子数组{4,5,5}中所有数字的倒数第二位都是0。接下来只要分别两个子数组求异或，就能找到第一个子数组中只出现一次的数字是6，而第二个子数组中只出现一次的数字是4。\n",
    "\n",
    "\n",
    " a 为 60，b 为 13，二进制格式如下：<br>\n",
    "```\n",
    "a = 0011 1100\n",
    "\n",
    "b = 0000 1101\n",
    "\n",
    "-----------------\n",
    "\n",
    "a&b = 0000 1100\n",
    "\n",
    "a|b = 0011 1101\n",
    "\n",
    "a^b = 0011 0001\n",
    "\n",
    "~a  = 1100 0011\n",
    "```\n",
    "\n",
    "![040](040.PNG)<br>\n",
    "\n",
    "[python运算符](https://www.runoob.com/python/python-operators.html)\n",
    "\n",
    "把所有的数字进行一次异或，得到的是只出现了一次的两个数字的异或。\n",
    "\n",
    "这两个数字不等，因此他们的二进制必定至少1位不同，即异或结果中为1的那位（一个数字的该位为1，另个数字的该位为0）。找出从右向左的第一个不同的位置（异或值为1的位置），给mask在该位置设置成1，mask的其余位置是0. mask存在的意义在于我们能通过该位置来分辨出两个只出现了一次的数字。\n",
    "\n",
    "然后技巧性的来了：再进行一次异或操作。\n",
    "\n",
    "每个数字都跟mask相与。通过与的结果为0和为1，即可区分出两个数字。\n",
    "\n",
    "一言以蔽之，先通过异或找出两个元素的异或结果。再根据异或结果的出现为1的位置作为mask，mask的二进制只有1位是1，也就是只看两个元素的该位置。最后，通过与操作判断该位置是0还是1区分两个元素。<br>\n",
    "———————————————— <br>\n",
    "版权声明：本文为CSDN博主「负雪明烛」的原创文章，遵循 CC 4.0 BY-SA 版权协议，转载请附上原文出处链接及本声明。\n",
    "原文链接：https://blog.csdn.net/fuxuemingzhu/article/details/79434100"
   ]
  },
  {
   "cell_type": "code",
   "execution_count": null,
   "metadata": {},
   "outputs": [],
   "source": [
    "# -*- coding:utf-8 -*- 自己默写。。\n",
    "class Solution:\n",
    "    # 返回[a,b] 其中ab是出现一次的两个数字\n",
    "    def FindNumsAppearOnce(self, array):\n",
    "        # write code here\n",
    "        \n",
    "        xor = 0\n",
    "        for i in array:\n",
    "            xor ^= i\n",
    "            \n",
    "        mask = 1\n",
    "        while xor & mask == 0:\n",
    "            mask <<= 1\n",
    "        num1, num2 = 0, 0\n",
    "        for num in array:\n",
    "            if num & mask ==0:\n",
    "                num1 ^=num\n",
    "            else:\n",
    "                num2 ^= num\n",
    "        return [num1, num2]"
   ]
  },
  {
   "cell_type": "code",
   "execution_count": null,
   "metadata": {},
   "outputs": [],
   "source": [
    "# dictionary\n",
    "\n",
    "# -*- coding:utf-8 -*-\n",
    "class Solution:\n",
    "    # 返回[a,b] 其中ab是出现一次的两个数字\n",
    "    def FindNumsAppearOnce(self, array):\n",
    "        # write code here\n",
    "        dic, res = {}, []\n",
    "        for num in array:\n",
    "            dic[num] = 1 if num in dic else 0\n",
    "        for key in dic:\n",
    "            if dic[key] == 0:\n",
    "                res.append(key)\n",
    "            \n",
    "        return res\n",
    "    "
   ]
  }
 ],
 "metadata": {
  "kernelspec": {
   "display_name": "Python 3",
   "language": "python",
   "name": "python3"
  },
  "language_info": {
   "codemirror_mode": {
    "name": "ipython",
    "version": 3
   },
   "file_extension": ".py",
   "mimetype": "text/x-python",
   "name": "python",
   "nbconvert_exporter": "python",
   "pygments_lexer": "ipython3",
   "version": "3.7.3"
  }
 },
 "nbformat": 4,
 "nbformat_minor": 2
}
