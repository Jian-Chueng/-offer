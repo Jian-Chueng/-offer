{
 "cells": [
  {
   "cell_type": "markdown",
   "metadata": {},
   "source": [
    "# 051 构建乘积数组\n",
    "\n",
    "题目描述\n",
    "\n",
    "给定一个数组A[0,1,...,n-1],请构建一个数组B[0,1,...,n-1],其中B中的元素B[i]=A[0]*A[1]*...*A[i-1]*A[i+1]*...*A[n-1]。不能使用除法。\n",
    "\n",
    "用例:\n",
    "\n",
    "[1,2,3,4,5]\n",
    "\n",
    "对应输出应该为:\n",
    "\n",
    "[120,60,40,30,24]"
   ]
  },
  {
   "cell_type": "markdown",
   "metadata": {},
   "source": [
    "# 思路\n",
    "\n",
    "A = [1, 2, 3, 4, 5]<br>\n",
    "B = [120 ,60, 40 ,30 , 24]<br>\n",
    "B[0]=120: 2X3X4X5 ->没有A[0]=1<br>\n",
    "B[1]=60: 1X3X4X5 ->没有A[1]=2<br>\n",
    "B[2]=40: 1X2X4X5 ->没有A[2]=3<br>\n",
    "B[3]=30: 1X2X3X5 ->没有A[3]=4<br>\n",
    "B[4]=24: 1X2X3X4 ->没有A[4]=5<br>\n",
    "\n",
    "- 观察下公式，你会发现，B[i]公式中没有A[i]项，也就是说如果可以使用除法，就可以用公式B[i]=A[0]*A[1]*.....*A[n-1]/A[i]来计算B[i]，但是题目要求不能使用，因此我们只能另想办法。\n",
    "\n",
    "- 好在还有更高效的算法。可以把B[i]=A[0]*A[1]*.....*A[i-1]*A[i+1]*.....*A[n-1]。看成A[0]*A[1]*.....*A[i-1]和A[i+1]*.....A[n-2]*A[n-1]两部分的乘积。\n",
    "\n",
    "![51](051.PNG)\n"
   ]
  },
  {
   "cell_type": "code",
   "execution_count": 1,
   "metadata": {},
   "outputs": [],
   "source": [
    "# -*- coding:utf-8 -*-方法1\n",
    "class Solution:\n",
    "    def multiply(self, A):\n",
    "        # write code here\n",
    "        n = len(A)\n",
    "        B = [1]*n\n",
    "        multiple = 1\n",
    "        \n",
    "        for i in range(n):\n",
    "            multiple *= A[i-1] if i > 0 else multiple\n",
    "            for num in A[i+1:]:\n",
    "                B[i] *= num\n",
    "            B[i] = B[i] * multiple\n",
    "            \n",
    "        return B"
   ]
  },
  {
   "cell_type": "markdown",
   "metadata": {},
   "source": [
    "描述\n",
    "\n",
    "reduce() 函数会对参数序列中元素进行累积。\n",
    "\n",
    "函数将一个数据集合（链表，元组等）中的所有数据进行下列操作：用传给 reduce 中的函数 function（有两个参数）先对集合中的第 1、2 个元素进行操作，得到的结果再与第三个数据用 function 函数运算，最后得到一个结果。\n",
    "\n",
    "语法\n",
    "\n",
    "reduce() 函数语法：\n",
    "\n",
    "reduce(function, iterable[, initializer])\n",
    "\n",
    "参数\n",
    "\n",
    "- function -- 函数，有两个参数\n",
    "- iterable -- 可迭代对象\n",
    "- initializer -- 可选，初始参数"
   ]
  },
  {
   "cell_type": "code",
   "execution_count": null,
   "metadata": {},
   "outputs": [],
   "source": [
    "# -*- coding:utf-8 -*-\n",
    "class Solution:\n",
    "    def multiply(self, A):\n",
    "        # write code here\n",
    "        n = len(A)\n",
    "        B = []\n",
    "        \n",
    "        for i in range(n):\n",
    "            temp = A[i] #temp 保存A[i]\n",
    "            A[i] =1\n",
    "            B.append(reduce(lambda x, y: x*y,A))\n",
    "            A[i] = temp #恢复A[i]\n",
    "        return B"
   ]
  }
 ],
 "metadata": {
  "kernelspec": {
   "display_name": "Python 3",
   "language": "python",
   "name": "python3"
  },
  "language_info": {
   "codemirror_mode": {
    "name": "ipython",
    "version": 3
   },
   "file_extension": ".py",
   "mimetype": "text/x-python",
   "name": "python",
   "nbconvert_exporter": "python",
   "pygments_lexer": "ipython3",
   "version": "3.7.3"
  }
 },
 "nbformat": 4,
 "nbformat_minor": 2
}
